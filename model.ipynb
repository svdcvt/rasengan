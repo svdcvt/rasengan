{
 "cells": [
  {
   "cell_type": "code",
   "execution_count": 1,
   "metadata": {},
   "outputs": [],
   "source": [
    "import torch\n",
    "from torch import nn\n",
    "\n",
    "class ConvBlock(nn.Module):\n",
    "    def __init__(self, inc, outc, k, s, p, bn=True, subpix=False):\n",
    "        super().__init__()\n",
    "        self.block = nn.Sequential(\n",
    "            nn.Conv1d(inc, outc, kernel_size=k, stride=s, padding=p),\n",
    "            nn.BatchNorm1d(outc) if bn else nn.Identity(),\n",
    "            nn.LeakyReLU(0.2)\n",
    "        )\n",
    "        self.subpix = subpix\n",
    "        if subpix:\n",
    "            self.ps = nn.PixelShuffle(2)\n",
    "\n",
    "    def forward(self, x):\n",
    "        if self.subpix:\n",
    "            x = self.ps(x.unsqueeze(2))\n",
    "            b, c, h, w = x.shape\n",
    "            x = x.reshape(b, c * h, w)\n",
    "        out = self.block(x)\n",
    "        return out\n",
    "        \n",
    "class Generator(nn.Module):\n",
    "    def __init__(self):\n",
    "        super().__init__()\n",
    "        self.encoder = nn.Sequential(\n",
    "            ConvBlock(129, 256, 7, 2, 3), # 16x256\n",
    "            ConvBlock(256, 512, 5, 2, 2), # 8x512\n",
    "            ConvBlock(512, 512, 3, 2, 1)  # 4x512\n",
    "        )\n",
    "        \n",
    "        self.bottle = ConvBlock(512, 1024, 3, 2, 1) # 2x1024\n",
    "        \n",
    "        self.decoder = nn.Sequential(\n",
    "            ConvBlock(512, 512, 3, 1, 1, subpix=True), # +4x512 skip\n",
    "            ConvBlock(512, 512, 5, 1, 2, subpix=True), # +8x512 skip\n",
    "            ConvBlock(512, 256, 7, 1, 3, subpix=True) # +16x256 skip\n",
    "        )\n",
    "        \n",
    "        self.final = nn.Sequential(\n",
    "            ConvBlock(256, 141, 7, 1, 3, subpix=True),\n",
    "            ConvBlock(141, 141, 9, 1, 4, bn=False) # тут лрелу в конце!\n",
    "        )\n",
    "\n",
    "    def forward(self, x):\n",
    "        skips = []\n",
    "        for layer in self.encoder:\n",
    "            x = layer(x)\n",
    "            skips.append(x)\n",
    "        x = self.bottle(x)\n",
    "        \n",
    "        for layer in self.decoder:\n",
    "            x = layer(x)\n",
    "            x = torch.cat([x, skips.pop()], dim=1)\n",
    "\n",
    "        out = self.final(x)\n",
    "        return out\n",
    "\n",
    "class Discriminator(nn.Module):\n",
    "    def __init__(self):\n",
    "        super().__init__()\n",
    "        self.convs = nn.Sequential(\n",
    "            ConvBlock(129 + 141, 1024, 7, 2, 3, bn=False),\n",
    "            ConvBlock(1024, 1024, 5, 2, 2, bn=False),\n",
    "            ConvBlock(1024, 1024, 3, 2, 1, bn=False),\n",
    "        )\n",
    "        self.fc = nn.Sequential(\n",
    "            nn.Flatten(),\n",
    "            nn.Linear(4 * 1024, 2048),\n",
    "            nn.LeakyReLU(0.2),\n",
    "            nn.Linear(2048, 1),\n",
    "        )\n",
    "   \n",
    "    def forward(self, x):\n",
    "        x = self.convs(x)\n",
    "        out = self.fc(x)\n",
    "        return out, torch.sigmoid(out)"
   ]
  },
  {
   "cell_type": "code",
   "execution_count": 2,
   "metadata": {},
   "outputs": [],
   "source": [
    "def reconstruction_loss(true, pred):\n",
    "    return torch.mean(torch.sqrt(torch.mean(\n",
    "                torch.square(torch.sub(true, pred)), dim=1)))\n",
    "\n",
    "def regularization_term(fake_prob, real_prob, fake_logit, real_logit):\n",
    "    real_grad = torch.autograd.grad(outputs=real_prob, inputs=real_logit,\n",
    "                                grad_outputs=torch.ones_like(real_prob),\n",
    "                                retain_graph=True, create_graph=True, only_inputs=True)[0]\n",
    "    fake_grad = torch.autograd.grad(outputs=fake_prob, inputs=fake_logit,\n",
    "                                grad_outputs=torch.ones_like(fake_prob),\n",
    "                                retain_graph=True, create_graph=True, only_inputs=True)[0]\n",
    "    \n",
    "    ep = torch.mean(torch.square(1 - real_prob) * torch.square(torch.norm(real_grad)))\n",
    "    eq = torch.mean(torch.square(fake_prob) * torch.square(torch.norm(fake_grad)))\n",
    "    return ep + eq\n",
    "\n",
    "def disc_loss(fake_prob, real_prob):\n",
    "    return torch.mean(torch.log(real_prob)) + torch.mean(torch.log(1 - fake_prob))\n",
    "\n",
    "def gen_loss(fake_prob):\n",
    "    return torch.mean(-torch.log(fake_prob))\n",
    "\n",
    "def segsnr(true, pred):\n",
    "    return torch.mean(10 * torch.log(torch.div(\n",
    "                torch.mean(torch.square(true), 2), \n",
    "                torch.mean(torch.square(true - pred), 2))), 1)"
   ]
  },
  {
   "cell_type": "code",
   "execution_count": 3,
   "metadata": {},
   "outputs": [],
   "source": [
    "G = Generator()\n",
    "D = Discriminator()\n",
    "optimizerG = torch.optim.Adam(G.parameters(), lr=1e-4)  # 1e-5 after 50 epoch\n",
    "optimizerD = torch.optim.RMSprop(D.parameters(), lr=1e-4)  # 1e-5 after 50 epoch\n",
    "gamma = 1\n",
    "lambd = 0.5\n",
    "batch = 64"
   ]
  },
  {
   "cell_type": "code",
   "execution_count": 4,
   "metadata": {},
   "outputs": [],
   "source": [
    "real_lf = torch.rand(1, 129, 32)\n",
    "real_hf = torch.rand(1, 141, 32)\n",
    "fake_hf = G(real_lf)\n",
    "fake_full = torch.cat([real_lf, fake_hf], dim=1)\n",
    "real_full = torch.cat([real_lf, real_hf], dim=1)\n",
    "fake_logit, fake_prob = D(fake_full)\n",
    "real_logit, real_prob = D(real_full)\n",
    "\n",
    "# segsnr(real_full, fake_full)"
   ]
  },
  {
   "cell_type": "code",
   "execution_count": 5,
   "metadata": {},
   "outputs": [],
   "source": [
    "lossD = disc_loss(fake_prob, real_prob) + 0.5 * gamma * regularization_term(fake_prob, real_prob, fake_logit, real_logit)\n",
    "lossG = gen_loss(fake_prob) + lambd * reconstruction_loss(real_full, fake_full)\n",
    "lossD.backward(retain_graph=True)\n",
    "lossG.backward()"
   ]
  },
  {
   "cell_type": "code",
   "execution_count": 6,
   "metadata": {},
   "outputs": [
    {
     "data": {
      "text/plain": [
       "(-1.3684453964233398, 0.896089494228363)"
      ]
     },
     "execution_count": 6,
     "metadata": {},
     "output_type": "execute_result"
    }
   ],
   "source": [
    "lossD.item(), lossG.item()"
   ]
  },
  {
   "cell_type": "code",
   "execution_count": 7,
   "metadata": {},
   "outputs": [],
   "source": [
    "# !pip3 install pesq"
   ]
  },
  {
   "cell_type": "code",
   "execution_count": 28,
   "metadata": {},
   "outputs": [
    {
     "name": "stdout",
     "output_type": "stream",
     "text": [
      "16000\n",
      "1.6282330751419067\n"
     ]
    }
   ],
   "source": [
    "from scipy.io import wavfile\n",
    "from pesq import pesq\n",
    "\n",
    "rate, ref = wavfile.read(\"5_gt.wav\")\n",
    "rate, deg = wavfile.read(\"5_gen.wav\")\n",
    "print(rate)\n",
    "print(pesq(rate, ref, deg, 'wb'))"
   ]
  },
  {
   "cell_type": "code",
   "execution_count": 9,
   "metadata": {},
   "outputs": [],
   "source": [
    "# 32 ms window size, 8 ms hop size\n",
    "# the log and power operations to obtain LPS\n",
    "# chopped up the utterances into T=32 timesteps\n",
    "spec_kwargs = dict(n_fft=(141 + 129) * 2 - 1, win_length=32, hop_length=8)\n",
    "\n",
    "import torchaudio\n",
    "import matplotlib.pyplot as plt"
   ]
  },
  {
   "cell_type": "code",
   "execution_count": 29,
   "metadata": {},
   "outputs": [
    {
     "data": {
      "text/plain": [
       "<matplotlib.image.AxesImage at 0x7f3424bcce80>"
      ]
     },
     "execution_count": 29,
     "metadata": {},
     "output_type": "execute_result"
    },
    {
     "data": {
      "image/png": "[encoded data removed]",
      "text/plain": [
       "<Figure size 432x288 with 1 Axes>"
      ]
     },
     "metadata": {},
     "output_type": "display_data"
    }
   ],
   "source": [
    "make_spectrogram = torchaudio.transforms.Spectrogram(**spec_kwargs)\n",
    "plt.imshow(make_spectrogram(torch.tensor(ref.copy())).log())"
   ]
  },
  {
   "cell_type": "code",
   "execution_count": 48,
   "metadata": {},
   "outputs": [
    {
     "data": {
      "text/plain": [
       "tensor([[True, True, True,  ..., True, True, True],\n",
       "        [True, True, True,  ..., True, True, True],\n",
       "        [True, True, True,  ..., True, True, True],\n",
       "        ...,\n",
       "        [True, True, True,  ..., True, True, True],\n",
       "        [True, True, True,  ..., True, True, True],\n",
       "        [True, True, True,  ..., True, True, True]])"
      ]
     },
     "execution_count": 48,
     "metadata": {},
     "output_type": "execute_result"
    }
   ],
   "source": [
    "stft = torch.stft(torch.tensor(ref.copy()), **spec_kwargs)\n",
    "torchaudio.functional.complex_norm(stft)\n",
    "torchaudio.functional.angle(stft) == phase"
   ]
  },
  {
   "cell_type": "code",
   "execution_count": 47,
   "metadata": {},
   "outputs": [
    {
     "data": {
      "text/plain": [
       "tensor([[ 0.0000,  0.0000,  0.0000,  ...,  0.0000,  0.0000,  0.0000],\n",
       "        [-3.1265,  3.1096,  3.1099,  ..., -3.1163, -3.1345,  3.1374],\n",
       "        [ 0.0303, -0.0648, -0.0638,  ...,  0.0508,  0.0142, -0.0088],\n",
       "        ...,\n",
       "        [-3.1023,  2.5982,  2.0582,  ..., -2.9506,  2.9705,  2.7156],\n",
       "        [ 0.0982, -0.7974, -1.2746,  ...,  0.3508, -0.2578, -0.6424],\n",
       "        [-2.8092,  1.8830,  1.6702,  ..., -2.2810,  2.4953,  1.9919]])"
      ]
     },
     "execution_count": 47,
     "metadata": {},
     "output_type": "execute_result"
    }
   ],
   "source": [
    "phase"
   ]
  },
  {
   "cell_type": "code",
   "execution_count": 41,
   "metadata": {},
   "outputs": [
    {
     "data": {
      "text/plain": [
       "<matplotlib.image.AxesImage at 0x7f3424968cc0>"
      ]
     },
     "execution_count": 41,
     "metadata": {},
     "output_type": "execute_result"
    },
    {
     "data": {
      "image/png": "[encoded data removed]",
      "text/plain": [
       "<Figure size 432x288 with 1 Axes>"
      ]
     },
     "metadata": {},
     "output_type": "display_data"
    }
   ],
   "source": [
    "mag, phase = torchaudio.functional.magphase()\n",
    "plt.imshow(mag.log())\n",
    "plt.imshow(phase.log())"
   ]
  },
  {
   "cell_type": "code",
   "execution_count": 25,
   "metadata": {},
   "outputs": [],
   "source": [
    "real_image = torch.stft(torch.tensor(ref.copy()), **spec_kwargs)"
   ]
  },
  {
   "cell_type": "code",
   "execution_count": null,
   "metadata": {},
   "outputs": [],
   "source": []
  },
  {
   "cell_type": "code",
   "execution_count": null,
   "metadata": {},
   "outputs": [],
   "source": [
    "import torch\n",
    "from torch.nn.utils import clip_grad_norm_\n",
    "from external_modules import torch_audio\n",
    "from utils import complex_torch\n",
    "\n",
    "\n",
    "class Runner:\n",
    "    def __init__(self, model, metric, optimizer, max_grad_norm, p, stft_kwargs):\n",
    "        self.model = model\n",
    "        self.metric = metric\n",
    "        self.optimizer = optimizer\n",
    "        self.max_grad_norm = max_grad_norm\n",
    "        self.stft_kwargs = stft_kwargs\n",
    "        self.p = p\n",
    "\n",
    "    def compress(self, x):\n",
    "        mag = torch_audio.complex_norm(x, self.p)\n",
    "        phase = complex_torch.phase(torch_audio.angle(x))\n",
    "        result = complex_torch.product(\n",
    "            complex_torch.from_real_and_imag(\n",
    "                mag, torch.zeros_like(mag)\n",
    "            ),\n",
    "            phase\n",
    "        )\n",
    "        return result\n",
    "\n",
    "    def decompress(self, x):\n",
    "        mag = torch_audio.complex_norm(x, 1. / self.p)\n",
    "        phase = complex_torch.phase(torch_audio.angle(x))\n",
    "        result = complex_torch.product(\n",
    "            complex_torch.from_real_and_imag(\n",
    "                mag, torch.zeros_like(mag)\n",
    "            ),\n",
    "            phase\n",
    "        )\n",
    "        return result\n",
    "\n",
    "    def step(self, *args, train=True):\n",
    "        to_return = {}\n",
    "        x, y = args\n",
    "        x_stft_no_norm = torch.stft(x, **self.stft_kwargs)\n",
    "        y_stft_no_norm = torch.stft(y, **self.stft_kwargs)\n",
    "        x_stft = self.compress(x_stft_no_norm)\n",
    "        y_stft = self.compress(y_stft_no_norm)\n",
    "        mask = self.model(x_stft)\n",
    "        assert mask.shape == x_stft.shape\n",
    "        stft_pred = complex_torch.product(x_stft, mask)\n",
    "\n",
    "        stft_pred_flat = stft_pred.reshape(stft_pred.shape[0], -1)\n",
    "        stft_true_flat = y_stft.reshape(y_stft.shape[0], -1)\n",
    "        loss = torch.nn.functional.mse_loss(\n",
    "            stft_pred_flat, stft_true_flat, reduction='none'\n",
    "        ).mean(-1)\n",
    "\n",
    "        assert loss.dim() >= 1\n",
    "        loss = loss.view(loss.shape[0], -1).mean(-1)\n",
    "        to_return['loss'] = loss.detach().cpu().numpy()\n",
    "\n",
    "        model_out = torch_audio.istft(\n",
    "            self.decompress(stft_pred),\n",
    "            **self.stft_kwargs\n",
    "        )\n",
    "        true_out = torch_audio.istft(y_stft_no_norm, **self.stft_kwargs)\n",
    "        metric = self.metric(model_out, true_out)\n",
    "        assert metric.dim() >= 1\n",
    "        to_return['metric'] = metric.detach().cpu().numpy()\n",
    "        if train:\n",
    "            self.optimizer.zero_grad()\n",
    "            loss.mean().backward()\n",
    "            grad_norm = clip_grad_norm_(\n",
    "                self.model.parameters(), self.max_grad_norm)\n",
    "            to_return['grad_norm'] = grad_norm\n",
    "            self.optimizer.step()\n",
    "        return to_return\n"
   ]
  }
 ],
 "metadata": {
  "kernelspec": {
   "display_name": "Python 3",
   "language": "python",
   "name": "python3"
  },
  "language_info": {
   "codemirror_mode": {
    "name": "ipython",
    "version": 3
   },
   "file_extension": ".py",
   "mimetype": "text/x-python",
   "name": "python",
   "nbconvert_exporter": "python",
   "pygments_lexer": "ipython3",
   "version": "3.6.9"
  }
 },
 "nbformat": 4,
 "nbformat_minor": 2
}
